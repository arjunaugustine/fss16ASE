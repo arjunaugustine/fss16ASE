{
 "cells": [
  {
   "cell_type": "code",
   "execution_count": null,
   "metadata": {
    "collapsed": true
   },
   "outputs": [],
   "source": []
  },
  {
   "cell_type": "code",
   "execution_count": 21,
   "metadata": {
    "collapsed": false
   },
   "outputs": [],
   "source": [
    "from __future__ import print_function, division\n",
    "from math import *\n",
    "import random\n",
    "import sys\n",
    "import matplotlib.pyplot as plt\n",
    "\n",
    "__author__ = \"devan, jordy, arjun\""
   ]
  },
  {
   "cell_type": "code",
   "execution_count": 22,
   "metadata": {
    "collapsed": true
   },
   "outputs": [],
   "source": [
    "# Few Utility functions\n",
    "def say(*lst):\n",
    "    \"\"\"\n",
    "    Print whithout going to new line\n",
    "    \"\"\"\n",
    "    print(*lst, end=\"\")\n",
    "    sys.stdout.flush()\n",
    "\n",
    "def random_value(low, high, decimals=2):\n",
    "    \"\"\"\n",
    "    Generate a random number between low and high. \n",
    "    decimals incidicate number of decimal places\n",
    "    \"\"\"\n",
    "    return round(random.uniform(low, high),decimals)\n",
    "\n",
    "def gt(a, b): return a > b\n",
    "\n",
    "def lt(a, b): return a < b\n",
    "\n",
    "def shuffle(lst):\n",
    "    \"\"\"\n",
    "    Shuffle a list\n",
    "    \"\"\"\n",
    "    random.shuffle(lst)\n",
    "    return lst"
   ]
  },
  {
   "cell_type": "code",
   "execution_count": 23,
   "metadata": {
    "collapsed": true
   },
   "outputs": [],
   "source": [
    "class O:\n",
    "    def __init__(self, **kwargs):\n",
    "        self.has().update(**kwargs)\n",
    "    def has(self):\n",
    "        return self.__dict__\n",
    "    def update(self, **kwargs):\n",
    "        self.has().update(kwargs)\n",
    "        return self\n",
    "    def __repr__(self):\n",
    "        show = [':%s %s' % (k, self.has()[k]) \n",
    "                for k in sorted(self.has().keys()) \n",
    "                if k[0] is not \"_\"]\n",
    "        txt = ' '.join(show)\n",
    "        if len(txt) > 60:\n",
    "            show = map(lambda x: '\\t' + x + '\\n', show)\n",
    "        return '{' + ' '.join(show) + '}'"
   ]
  },
  {
   "cell_type": "code",
   "execution_count": 24,
   "metadata": {
    "collapsed": false
   },
   "outputs": [],
   "source": [
    "class Feature(O):\n",
    "    def __init__(self, name_ = '', id_ = None, type_='o', children_ = []):\n",
    "        O.__init__(self)\n",
    "        self.name_ = name_\n",
    "        self.id_=id_\n",
    "        self.type_=type_\n",
    "        self.children_ = children_\n",
    "        self.parent_ = None\n",
    "        self.cost_ = 0\n",
    "        "
   ]
  },
  {
   "cell_type": "code",
   "execution_count": 25,
   "metadata": {
    "collapsed": false
   },
   "outputs": [],
   "source": [
    "class Decision(O):\n",
    "    def __init__(self, name, present=False):\n",
    "        O.__init__(self, name=name, present=present)"
   ]
  },
  {
   "cell_type": "code",
   "execution_count": 26,
   "metadata": {
    "collapsed": false
   },
   "outputs": [],
   "source": [
    "class Objective(O):\n",
    "    #need to think of more objectives\n",
    "    def __init__(self, name, low=0, high=1, do_minimize=True):\n",
    "        O.__init__(self, name=name, do_minimize=do_minimize, low=low, high=high)\n",
    "        \n",
    "    def normalize(self, val):\n",
    "        return (val - self.low)/(self.high - self.low)"
   ]
  },
  {
   "cell_type": "code",
   "execution_count": 27,
   "metadata": {
    "collapsed": true
   },
   "outputs": [],
   "source": [
    "class Point(O):\n",
    "    def __init__(self, decisions):\n",
    "        O.__init__(self)\n",
    "        self.decisions = decisions\n",
    "        self.objectives = None\n",
    "        \n",
    "    def __hash__(self):\n",
    "        return hash(tuple(self.decisions))\n",
    "    \n",
    "    def __eq__(self, other):\n",
    "        return self.decisions == other.decisions\n",
    "    \n",
    "    def clone(self):\n",
    "        new = Point(self.decisions[:])\n",
    "        new.objectives = self.objectives[:]\n",
    "        return new"
   ]
  },
  {
   "cell_type": "code",
   "execution_count": 28,
   "metadata": {
    "collapsed": true
   },
   "outputs": [],
   "source": [
    "class Problem(O):\n",
    "    def __init__(self, decisions, objectives):\n",
    "        O.__init__(self)\n",
    "        self.decisions = decisions\n",
    "        self.objectives = objectives\n",
    "        \n",
    "    @staticmethod\n",
    "    def visualize_features():\n",
    "        assert(False)\n",
    "    \n",
    "    @staticmethod\n",
    "    def evaluate(point):\n",
    "        assert False\n",
    "        return point.objectives\n",
    "    \n",
    "    @staticmethod\n",
    "    def is_valid(point):\n",
    "        return True\n",
    "    \n",
    "    def generate_one(self, retries = 20):\n",
    "        for _ in xrange(retries):\n",
    "            point = Point([random.random()>0.5 for d in self.decisions])\n",
    "            if self.is_valid(point):\n",
    "                return point\n",
    "        raise RuntimeError(\"Exceeded max runtimes of %d\" % 20)\n",
    "   "
   ]
  },
  {
   "cell_type": "code",
   "execution_count": 29,
   "metadata": {
    "collapsed": false
   },
   "outputs": [],
   "source": [
    "class LinuxFeatures(Problem):\n",
    "    root = '_r'\n",
    "    #map of all <node id, node>'s in the feature tree\n",
    "    feature_map = dict()\n",
    "    #set of ids of all leaves in the feature tree\n",
    "    decision_list = []\n",
    "    evaluation_order = []\n",
    "    constraints=[]\n",
    "    \n",
    "    def __init__(self):\n",
    "        self.load()\n",
    "        LinuxFeatures.decision_list.sort(key=lambda x : len(x.split(\"_\")), reverse = True)\n",
    "        #by default all decisions are false\n",
    "        decisions = [Decision(LinuxFeatures.feature_map[x].name_) for x in LinuxFeatures.decision_list]\n",
    "        objectives = []\n",
    "        objectives.append(Objective(\"constraint_violations\", 0, 7))\n",
    "        objectives.append(Objective(\"#offeatures\", 0, 14, False))\n",
    "        objectives.append(Objective(\"cost_of_implementation\", 0, 10000))\n",
    "        Problem.__init__(self, decisions, objectives)\n",
    "        \n",
    "    def load(self):\n",
    "        \n",
    "        LinuxFeatures.feature_map['_r_1_17_20'] = Feature(\"JFS\", '_r_1_17_20', '', [])\n",
    "        LinuxFeatures.feature_map['_r_1_17_19'] = Feature(\"Reiserfs\", '_r_1_17_19', '', []) \n",
    "        LinuxFeatures.feature_map['_r_1_17_18'] = Feature(\"EXT_3\", '_r_1_17_18', '', [])\n",
    "        LinuxFeatures.feature_map['_r_1_17'] = Feature(\"\", '_r_1_17', '', [LinuxFeatures.feature_map['_r_1_17_18'],LinuxFeatures.feature_map['_r_1_17_19'],LinuxFeatures.feature_map['_r_1_17_20']]) \n",
    "        LinuxFeatures.feature_map['_r_1'] = Feature(\"File_System\", '_r_1', 'm', [LinuxFeatures.feature_map['_r_1_17']]) \n",
    "        LinuxFeatures.decision_list.append('_r_1_17_20')\n",
    "        LinuxFeatures.decision_list.append('_r_1_17_19')\n",
    "        LinuxFeatures.decision_list.append('_r_1_17_18')\n",
    "        LinuxFeatures.feature_map['_r_1_17_20'].cost_=100\n",
    "        LinuxFeatures.feature_map['_r_1_17_19'].cost_=200\n",
    "        LinuxFeatures.feature_map['_r_1_17_18'].cost_=300\n",
    "\n",
    "        LinuxFeatures.feature_map['_r_2_12'] = Feature(\"Auditing_Support\", '_r_2_12', 'o', []) \n",
    "        LinuxFeatures.feature_map['_r_2_13'] = Feature(\"Swap\", '_r_2_13', 'o', []) \n",
    "        LinuxFeatures.feature_map['_r_2'] = Feature(\"General_Setup\", '_r_2', 'm', [LinuxFeatures.feature_map['_r_2_13'], LinuxFeatures.feature_map['_r_2_12']]) \n",
    "        LinuxFeatures.decision_list.append('_r_2_12')\n",
    "        LinuxFeatures.decision_list.append('_r_2_13')\n",
    "        LinuxFeatures.feature_map['_r_2_12'].cost_=100\n",
    "        LinuxFeatures.feature_map['_r_2_13'].cost_=200\n",
    "\n",
    "\n",
    "        LinuxFeatures.feature_map['_r_3_14'] = Feature(\"Software_Suspended\", '_r_3_14', 'o', []) \n",
    "        LinuxFeatures.feature_map['_r_3_15'] = Feature(\"CPU_Frequency_Scaling\", '_r_3_15', 'o', []) \n",
    "        LinuxFeatures.feature_map['_r_3_16'] = Feature(\"APM_BIOS_Support\", '_r_3_16', 'o', []) \n",
    "        LinuxFeatures.feature_map['_r_3'] = Feature(\"Power_Management_Options\", '_r_3', 'm', [LinuxFeatures.feature_map['_r_3_14'] , LinuxFeatures.feature_map['_r_3_15'] , LinuxFeatures.feature_map['_r_3_16'] ]) \n",
    "        LinuxFeatures.decision_list.append('_r_3_14')\n",
    "        LinuxFeatures.decision_list.append('_r_3_15')\n",
    "        LinuxFeatures.decision_list.append('_r_3_16')\n",
    "        LinuxFeatures.feature_map['_r_3_14'].cost_=100\n",
    "        LinuxFeatures.feature_map['_r_3_15'].cost_=200\n",
    "        LinuxFeatures.feature_map['_r_3_16'].cost_=100\n",
    "\n",
    "\n",
    "        LinuxFeatures.feature_map['_r_4_26_29'] = Feature(\"IPSec\", '_r_4_26_29', 'o', []) \n",
    "        LinuxFeatures.feature_map['_r_4_26'] = Feature(\"Socket_and_Networking\", '_r_4_26', 'o', [LinuxFeatures.feature_map['_r_4_26_29']]) \n",
    "        LinuxFeatures.feature_map['_r_4_25'] = Feature(\"NSA_SELinux\", '_r_4_25', 'o', []) \n",
    "        LinuxFeatures.feature_map['_r_4'] = Feature(\"Security_Options\", '_r_4', 'o', [LinuxFeatures.feature_map['_r_4_25'], LinuxFeatures.feature_map['_r_4_26']]) \n",
    "        LinuxFeatures.decision_list.append('_r_4_26_29')\n",
    "        LinuxFeatures.decision_list.append('_r_4_25')\n",
    "        LinuxFeatures.feature_map['_r_4_26_29'].cost_=200\n",
    "        LinuxFeatures.feature_map['_r_4_25'].cost_=100\n",
    "\n",
    "        LinuxFeatures.feature_map['_r_5_32_34'] = Feature(\"Ethernet_1000_MBit\", '_r_5_32_34', 'o', []) \n",
    "        LinuxFeatures.feature_map['_r_5_32_33'] = Feature(\"Ethernet_10_or_100_MBit\", '_r_5_32_33', 'o', []) \n",
    "        LinuxFeatures.feature_map['_r_5_32'] = Feature(\"Networking_Device\", '_r_5_32', 'o', [LinuxFeatures.feature_map['_r_5_32_33'], LinuxFeatures.feature_map['_r_5_32_34']]) \n",
    "        LinuxFeatures.feature_map['_r_5_31'] = Feature(\"Wireless_LAN\", '_r_5_31', 'o', []) \n",
    "        LinuxFeatures.feature_map['_r_5_30'] = Feature(\"SATA\", '_r_5_30', 'o', []) \n",
    "        LinuxFeatures.feature_map['_r_5'] = Feature(\"Device_Drivers\", '_r_5', 'm', [LinuxFeatures.feature_map['_r_5_30'] , LinuxFeatures.feature_map['_r_5_31'] , LinuxFeatures.feature_map['_r_5_32'] ])\n",
    "        LinuxFeatures.decision_list.append('_r_5_32_34')\n",
    "        LinuxFeatures.decision_list.append('_r_5_32_33')\n",
    "        LinuxFeatures.decision_list.append('_r_5_31')\n",
    "        LinuxFeatures.decision_list.append('_r_5_30')\n",
    "        LinuxFeatures.feature_map['_r_5_32_34'].cost_=400\n",
    "        LinuxFeatures.feature_map['_r_5_32_33'].cost_=300\n",
    "        LinuxFeatures.feature_map['_r_5_31'].cost_=200\n",
    "        LinuxFeatures.feature_map['_r_5_30'].cost_=100\n",
    "\n",
    "        LinuxFeatures.feature_map['_r_6_45_48'] = Feature(\"IPv6\", '_r_6_45_48', 'o', []) \n",
    "        LinuxFeatures.feature_map['_r_6_45_47'] = Feature(\"Tunneling\", '_r_6_45_47', 'o', []) \n",
    "        LinuxFeatures.feature_map['_r_6_45_46'] = Feature(\"Multicasting\", '_r_6_45_46', 'o', []) \n",
    "        LinuxFeatures.feature_map['_r_6_45'] = Feature(\"TCP_IP\", '_r_6_45', 'o', [LinuxFeatures.feature_map['_r_6_45_46'], LinuxFeatures.feature_map['_r_6_45_47'], LinuxFeatures.feature_map['_r_6_45_48']]) \n",
    "        LinuxFeatures.feature_map['_r_6_44'] = Feature(\"Bluetooth\", '_r_6_44', 'o', []) \n",
    "        LinuxFeatures.feature_map['_r_6_43'] = Feature(\"IrDA\", '_r_6_43', 'o', []) \n",
    "        LinuxFeatures.feature_map['_r_6'] = Feature(\"Networking_Options\", '_r_6', 'o', [LinuxFeatures.feature_map['_r_6_43'], LinuxFeatures.feature_map['_r_6_44'], LinuxFeatures.feature_map['_r_6_45']]) \n",
    "        LinuxFeatures.decision_list.append('_r_6_45_48')\n",
    "        LinuxFeatures.decision_list.append('_r_6_45_47')\n",
    "        LinuxFeatures.decision_list.append('_r_6_45_46')\n",
    "        LinuxFeatures.decision_list.append('_r_6_44')\n",
    "        LinuxFeatures.decision_list.append('_r_6_43')\n",
    "        LinuxFeatures.feature_map['_r_6_45_48'].cost_=500\n",
    "        LinuxFeatures.feature_map['_r_6_45_47'].cost_=400\n",
    "        LinuxFeatures.feature_map['_r_6_45_46'].cost_=300\n",
    "        LinuxFeatures.feature_map['_r_6_44'].cost_=200\n",
    "        LinuxFeatures.feature_map['_r_6_43'].cost_=100\n",
    "\n",
    "        LinuxFeatures.feature_map['_r_7_21_24'] = Feature(\"AES_Cipher\", '_r_7_21_24', '', []) \n",
    "        LinuxFeatures.feature_map['_r_7_21_23'] = Feature(\"SHA256\", '_r_7_21_23', '', []) \n",
    "        LinuxFeatures.feature_map['_r_7_21_22'] = Feature(\"MD5\", '_r_7_21_22', '', []) \n",
    "        LinuxFeatures.feature_map['_r_7_21'] = Feature(\"\", '_r_7_21', '', [LinuxFeatures.feature_map['_r_7_21_22'], LinuxFeatures.feature_map['_r_7_21_23'], LinuxFeatures.feature_map['_r_7_21_24']]) \n",
    "        LinuxFeatures.feature_map['_r_7'] = Feature(\"Cryptography_Algorithms\", '_r_7', 'o', [LinuxFeatures.feature_map['_r_7_21']]) \n",
    "        LinuxFeatures.decision_list.append('_r_7_21_24')\n",
    "        LinuxFeatures.decision_list.append('_r_7_21_23')\n",
    "        LinuxFeatures.decision_list.append('_r_7_21_22')\n",
    "        LinuxFeatures.feature_map['_r_7_21_24'].cost_=300\n",
    "        LinuxFeatures.feature_map['_r_7_21_23'].cost_=200\n",
    "        LinuxFeatures.feature_map['_r_7_21_22'].cost_=100\n",
    "\n",
    "\n",
    "        LinuxFeatures.feature_map['_r_8_36_42'] = Feature(\"Multi_core_Support\", '_r_8_36_42', 'o', []) \n",
    "        LinuxFeatures.feature_map['_r_8_36_41'] = Feature(\"Hyper_Threading_Support\", '_r_8_36_41', 'o', []) \n",
    "        LinuxFeatures.feature_map['_r_8_36'] = Feature(\"Symmetric_MultiProcessing_Support\", '_r_8_36', 'o', [LinuxFeatures.feature_map['_r_8_36_41'], LinuxFeatures.feature_map['_r_8_36_42']])  \n",
    "        LinuxFeatures.feature_map['_r_8_35_37_40'] = Feature(\"Generic_x86_64\", '_r_8_35_37_40', '', []) \n",
    "        LinuxFeatures.feature_map['_r_8_35_37_39'] = Feature(\"AMD\", '_r_8_35_37_39', '', []) \n",
    "        LinuxFeatures.feature_map['_r_8_35_37_38'] = Feature(\"Intel\", '_r_8_35_37_38', '', []) \n",
    "        LinuxFeatures.feature_map['_r_8_35_37'] = Feature(\"\", '_r_8_35_37', '', [LinuxFeatures.feature_map['_r_8_35_37_38'],LinuxFeatures.feature_map['_r_8_35_37_39'],LinuxFeatures.feature_map['_r_8_35_37_40']]) \n",
    "        LinuxFeatures.feature_map['_r_8_35'] = Feature(\"Processor_Family\", '_r_8_35', 'o', [LinuxFeatures.feature_map['_r_8_35_37']]) \n",
    "        LinuxFeatures.feature_map['_r_8'] = Feature(\"Processor_Type_and_Features\", '_r_8', 'm', [LinuxFeatures.feature_map['_r_8_35'], LinuxFeatures.feature_map['_r_8_36']]) \n",
    "        LinuxFeatures.decision_list.append('_r_8_36_42')\n",
    "        LinuxFeatures.decision_list.append('_r_8_36_41')\n",
    "        LinuxFeatures.decision_list.append('_r_8_35_37_40')\n",
    "        LinuxFeatures.decision_list.append('_r_8_35_37_39')\n",
    "        LinuxFeatures.decision_list.append('_r_8_35_37_38')\n",
    "        LinuxFeatures.feature_map['_r_8_36_42'].cost_=500\n",
    "        LinuxFeatures.feature_map['_r_8_36_41'].cost_=400\n",
    "        LinuxFeatures.feature_map['_r_8_35_37_40'].cost_=300\n",
    "        LinuxFeatures.feature_map['_r_8_35_37_39'].cost_=200\n",
    "        LinuxFeatures.feature_map['_r_8_35_37_38'].cost_=100\n",
    "        \n",
    "        LinuxFeatures.feature_map['_r'] = Feature(\"Linux\", '_r', 'r', [LinuxFeatures.feature_map['_r_8'], LinuxFeatures.feature_map['_r_7'], LinuxFeatures.feature_map['_r_6'], LinuxFeatures.feature_map['_r_5'], LinuxFeatures.feature_map['_r_4'], LinuxFeatures.feature_map['_r_3'], LinuxFeatures.feature_map['_r_2'], LinuxFeatures.feature_map['_r_1']])\n",
    "        \n",
    "        LinuxFeatures.evaluation_order=\\\n",
    "        ['_r_8_35_37_40','_r_8_35_37_39', '_r_8_35_37_38',\n",
    "         '_r_8_36_42','_r_8_36_41','_r_8_35_37',\n",
    "         '_r_8_36', '_r_8_35',\n",
    "         '_r_8',\n",
    "        '_r_7_21_24', '_r_7_21_23', '_r_7_21_22',\n",
    "         '_r_7_21',\n",
    "         '_r_7',\n",
    "        '_r_6_45_48','_r_6_45_47','_r_6_45_46',\n",
    "         '_r_6_43','_r_6_44','_r_6_45',\n",
    "         '_r_6',\n",
    "        '_r_5_32_34','_r_5_32_33',\n",
    "         '_r_5_32','_r_5_31','_r_5_30',\n",
    "         '_r_5',\n",
    "        '_r_4_26_29',\n",
    "         '_r_4_26','_r_4_25',\n",
    "         '_r_4',\n",
    "        '_r_3_16','_r_3_15','_r_3_14',\n",
    "         '_r_3',\n",
    "        '_r_2_13','_r_2_12',\n",
    "         '_r_2',\n",
    "        '_r_1_17_20','_r_1_17_19','_r_1_17_18',\n",
    "         '_r_1_17',\n",
    "         '_r_1',\n",
    "         '_r'\n",
    "        ]\n",
    "        \n",
    "        LinuxFeatures.constraints=[(False, '_r_3', 'OR', True,'_r_8_36'),\n",
    "                                    (True,'_r_5_31','OR',True,'_r_6_44'),\n",
    "                                    (True,'_r_2_13','OR',False,'_r_3_14'),\n",
    "                                    (True,'_r_7','OR',False,'_r_4_26'),\n",
    "                                    (True,'_r_5_31','OR',False,'_r_6_43'),\n",
    "                                    (True,'_r_5_31','OR',True,'_r_5_32','OR','NO','_r_6_45'),\n",
    "                                    (True,'_r_6', 'OR', False, '_r_4')]\n",
    "        \n",
    "    @staticmethod\n",
    "    def visualize_features():\n",
    "        list_=[]\n",
    "        list_.append(LinuxFeatures.feature_map['_r'])\n",
    "        while len(list_)>0:\n",
    "            el = list_[0] \n",
    "            list_.pop(0)\n",
    "            print(el.id_, ':', el.name_)\n",
    "            list_=list_+el.children_\n",
    "        \n",
    "        print(len(LinuxFeatures.decision_list),\"Leaves : \\n\", LinuxFeatures.decision_list)\n",
    "        \n",
    "        \n",
    "    @staticmethod\n",
    "    def eval_(decisions):\n",
    "        obj=[]\n",
    "        violations = 0\n",
    "        supported_features = 0\n",
    "        cost_of_implementation=0\n",
    "        feat_ = dict(zip(LinuxFeatures.decision_list, decisions))\n",
    "        #for a in feat_:\n",
    "            #print(a,':',feat_[a])\n",
    "        for x in LinuxFeatures.evaluation_order:\n",
    "            feature = LinuxFeatures.feature_map[x]\n",
    "            for y in feature.children_:\n",
    "                if feat_[y.id_]:\n",
    "                    feat_[x]=True\n",
    "                else:\n",
    "                    if y.type_=='m' or y.type_=='g'or y.type_=='r':\n",
    "                        violations+=1\n",
    "            if x not in feat_:\n",
    "                feat_[x]=False\n",
    "                if LinuxFeatures.feature_map[x].type_=='m' or LinuxFeatures.feature_map[x].type_=='g'or LinuxFeatures.feature_map[x].type_=='r':\n",
    "                        violations+=1\n",
    "        \n",
    "        for f in feat_:\n",
    "            if feat_[f]:\n",
    "                supported_features+=1\n",
    "                cost_of_implementation+=LinuxFeatures.feature_map[f].cost_\n",
    "                \n",
    "        for constraint in LinuxFeatures.constraints:\n",
    "            if len(constraint)==5:\n",
    "                if(constraint[0]!=feat_[constraint[1]] and constraint[3]!=feat_[constraint[4]]):\n",
    "                    violations+=1\n",
    "                \n",
    "            if len(constraint)==7:\n",
    "                if(constraint[0]!=feat_[constraint[1]] and constraint[3]!=feat_[constraint[4]] and constraint[6]!=feat_[constraint[7]]):\n",
    "                    violations+=1\n",
    "                    \n",
    "        \n",
    "        \n",
    "        \n",
    "        return [violations, supported_features, cost_of_implementation]\n",
    "        \n",
    "        \n",
    "    @staticmethod\n",
    "    def evaluate(point):\n",
    "        if not point.objectives:\n",
    "            point.objectives = LinuxFeatures.eval_(point.decisions)\n",
    "        return point.objectives        "
   ]
  },
  {
   "cell_type": "code",
   "execution_count": 30,
   "metadata": {
    "collapsed": false
   },
   "outputs": [
    {
     "name": "stdout",
     "output_type": "stream",
     "text": [
      "_r : Linux\n",
      "_r_8 : Processor_Type_and_Features\n",
      "_r_7 : Cryptography_Algorithms\n",
      "_r_6 : Networking_Options\n",
      "_r_5 : Device_Drivers\n",
      "_r_4 : Security_Options\n",
      "_r_3 : Power_Management_Options\n",
      "_r_2 : General_Setup\n",
      "_r_1 : File_System\n",
      "_r_8_35 : Processor_Family\n",
      "_r_8_36 : Symmetric_MultiProcessing_Support\n",
      "_r_7_21 : \n",
      "_r_6_43 : IrDA\n",
      "_r_6_44 : Bluetooth\n",
      "_r_6_45 : TCP_IP\n",
      "_r_5_30 : SATA\n",
      "_r_5_31 : Wireless_LAN\n",
      "_r_5_32 : Networking_Device\n",
      "_r_4_25 : NSA_SELinux\n",
      "_r_4_26 : Socket_and_Networking\n",
      "_r_3_14 : Software_Suspended\n",
      "_r_3_15 : CPU_Frequency_Scaling\n",
      "_r_3_16 : APM_BIOS_Support\n",
      "_r_2_13 : Swap\n",
      "_r_2_12 : Auditing_Support\n",
      "_r_1_17 : \n",
      "_r_8_35_37 : \n",
      "_r_8_36_41 : Hyper_Threading_Support\n",
      "_r_8_36_42 : Multi_core_Support\n",
      "_r_7_21_22 : MD5\n",
      "_r_7_21_23 : SHA256\n",
      "_r_7_21_24 : AES_Cipher\n",
      "_r_6_45_46 : Multicasting\n",
      "_r_6_45_47 : Tunneling\n",
      "_r_6_45_48 : IPv6\n",
      "_r_5_32_33 : Ethernet_10_or_100_MBit\n",
      "_r_5_32_34 : Ethernet_1000_MBit\n",
      "_r_4_26_29 : IPSec\n",
      "_r_1_17_18 : EXT_3\n",
      "_r_1_17_19 : Reiserfs\n",
      "_r_1_17_20 : JFS\n",
      "_r_8_35_37_38 : Intel\n",
      "_r_8_35_37_39 : AMD\n",
      "_r_8_35_37_40 : Generic_x86_64\n",
      "27 Leaves : \n",
      " ['_r_8_35_37_40', '_r_8_35_37_39', '_r_8_35_37_38', '_r_1_17_20', '_r_1_17_19', '_r_1_17_18', '_r_4_26_29', '_r_5_32_34', '_r_5_32_33', '_r_6_45_48', '_r_6_45_47', '_r_6_45_46', '_r_7_21_24', '_r_7_21_23', '_r_7_21_22', '_r_8_36_42', '_r_8_36_41', '_r_2_12', '_r_2_13', '_r_3_14', '_r_3_15', '_r_3_16', '_r_4_25', '_r_5_31', '_r_5_30', '_r_6_44', '_r_6_43']\n"
     ]
    }
   ],
   "source": [
    "LinuxFeatures().visualize_features()"
   ]
  },
  {
   "cell_type": "code",
   "execution_count": 41,
   "metadata": {
    "collapsed": false
   },
   "outputs": [],
   "source": [
    "def populate(problem, size):\n",
    "    population = []\n",
    "    for _ in range(size):\n",
    "        population.append(problem.generate_one())\n",
    "    return population\n",
    "\n",
    "def crossover(mom, dad):\n",
    "    n = len(mom.decisions)\n",
    "    return Point(mom.decisions[:n//2] + dad.decisions[n//2:])\n",
    "\n",
    "def mutate(problem, point, mutation_rate=0.01):\n",
    "    for i, decision in enumerate(problem.decisions):\n",
    "        if random.random() < mutation_rate:\n",
    "            point.decisions[i] = random.random()>0.5\n",
    "    return point\n",
    "\n",
    "def cdom(problem, one, two):\n",
    "\n",
    "    def loss(x, y):\n",
    "        losses= 0\n",
    "        n = min(len(x),len(y))\n",
    "        for i,(x1,y1) in enumerate(zip(x,y)):\n",
    "            x1 = problem.objectives[i].normalize(x1) # normalization\n",
    "            y1 = problem.objectives[i].normalize(y1) # normalization\n",
    "            dir = -1 if problem.objectives[i].do_minimize else 1 # adjust for direction of comparison\n",
    "            losses += -1*e**(dir*(x1 - y1) / n) # raise the differences to some exponent\n",
    "        return losses / n  # return mean loss\n",
    "    \n",
    "    x = problem.evaluate(one)\n",
    "    y = problem.evaluate(two)\n",
    "    lxy, lyx = loss(x, y), loss(y, x)\n",
    "    return lxy < lyx\n",
    "\n",
    "def bdom(problem, one, two):\n",
    "    objs_one = problem.evaluate(one)\n",
    "    objs_two = problem.evaluate(two)\n",
    "    dominates = False\n",
    "    for i, obj in enumerate(problem.objectives):\n",
    "        better = lt if obj.do_minimize else gt\n",
    "        if better(objs_one[i], objs_two[i]):\n",
    "            dominates = True\n",
    "        elif objs_one[i] != objs_two[i]:\n",
    "            return False\n",
    "    return dominates\n",
    "\n",
    "def fitness(problem, population, point, dom_func):\n",
    "    return len([1 for another in population if dom_func(problem, point, another)])\n",
    "\n",
    "def elitism(problem, population, retain_size, dom_func):\n",
    "    fitnesses = []\n",
    "    for point in population:\n",
    "        fitnesses.append((fitness(problem, population, point, dom_func), point))\n",
    "    population = [tup[1] for tup in sorted(fitnesses, reverse=True)]\n",
    "    return population[:retain_size]"
   ]
  },
  {
   "cell_type": "code",
   "execution_count": 42,
   "metadata": {
    "collapsed": false
   },
   "outputs": [],
   "source": [
    "def avg_and_variance(populations):\n",
    "    size_=len(populations)\n",
    "    obj_list = [p.objectives for p in populations]\n",
    "    avgs = [sum([i[0] for i in obj_list])/size_,\n",
    "            sum([i[1] for i in obj_list])/size_, \n",
    "            sum([i[2] for i in obj_list])/size_]\n",
    "\n",
    "    variances = [sum((i[0]-avgs[0]) * (i[0]-avgs[0]) for i in obj_list)/size_, \n",
    "                 sum((i[1]-avgs[1]) * (i[1]-avgs[1]) for i in obj_list)/size_, \n",
    "                 sum((i[2]-avgs[2]) * (i[2]-avgs[2]) for i in obj_list)/size_]\n",
    "    print(avgs)\n",
    "    print(variances)\n",
    "    return avgs, variances"
   ]
  },
  {
   "cell_type": "code",
   "execution_count": 43,
   "metadata": {
    "collapsed": true
   },
   "outputs": [],
   "source": [
    "def ga(pop_size = 100, gens = 250, dom_func=cdom):\n",
    "    problem = LinuxFeatures()\n",
    "    population = populate(problem, pop_size)\n",
    "    [problem.evaluate(point) for point in population]\n",
    "    initial_population = [point.clone() for point in population]\n",
    "    gen = 0 \n",
    "    while gen < gens:\n",
    "        say(\".\")\n",
    "        children = []\n",
    "        for _ in range(pop_size):\n",
    "            mom = random.choice(population)\n",
    "            dad = random.choice(population)\n",
    "            while (mom == dad):\n",
    "                dad = random.choice(population)\n",
    "            child = mutate(problem, crossover(mom, dad))\n",
    "            if problem.is_valid(child) and child not in population+children:\n",
    "                children.append(child)\n",
    "        population += children\n",
    "        population = elitism(problem, population, pop_size, dom_func)\n",
    "        gen += 1\n",
    "    print(\"\")\n",
    "    return initial_population, population"
   ]
  },
  {
   "cell_type": "code",
   "execution_count": 44,
   "metadata": {
    "collapsed": true
   },
   "outputs": [],
   "source": [
    "def plot_pareto(initial, final):\n",
    "    initial_objs = [point.objectives for point in initial]\n",
    "    final_objs = [point.objectives for point in final]\n",
    "    initial_x = [i[0] for i in initial_objs]\n",
    "    initial_y = [i[1] for i in initial_objs]\n",
    "    initial_z = [i[2] for i in initial_objs]\n",
    "    \n",
    "    final_x = [i[0] for i in final_objs]\n",
    "    final_y = [i[1] for i in final_objs]\n",
    "    final_z = [i[2] for i in final_objs]\n",
    "    \n",
    "    plt.scatter(initial_x, initial_y, color='b', marker='+', label='initial')\n",
    "    plt.scatter(final_x, final_y, color='r', marker='o', label='final')\n",
    "    plt.title(\"Scatter Plot between initial and final population of GA\")\n",
    "    plt.ylabel(\"Implemented Features\")\n",
    "    plt.xlabel(\"Constraints Violated\")\n",
    "    plt.legend(loc=9, bbox_to_anchor=(0.5, -0.175), ncol=2)\n",
    "    plt.show()\n",
    "    \n",
    "    plt.scatter(initial_z, initial_y, color='b', marker='+', label='initial')\n",
    "    plt.scatter(final_z, final_y, color='r', marker='o', label='final')\n",
    "    plt.title(\"Scatter Plot between initial and final population of GA\")\n",
    "    plt.xlabel(\"Cost of Implementation\")\n",
    "    plt.ylabel(\"Implemented Features\")\n",
    "    plt.legend(loc=9, bbox_to_anchor=(0.5, -0.175), ncol=2)\n",
    "    plt.show()\n",
    "    \n",
    "    plt.scatter(initial_x, initial_z, color='b', marker='+', label='initial')\n",
    "    plt.scatter(final_x, final_z, color='r', marker='o', label='final')\n",
    "    plt.title(\"Scatter Plot between initial and final population of GA\")\n",
    "    plt.ylabel(\"Cost of Implementation\")\n",
    "    plt.xlabel(\"Constraints Violated\")\n",
    "    plt.legend(loc=9, bbox_to_anchor=(0.5, -0.175), ncol=2)\n",
    "    plt.show()\n",
    "    "
   ]
  },
  {
   "cell_type": "code",
   "execution_count": 45,
   "metadata": {
    "collapsed": false
   },
   "outputs": [
    {
     "name": "stdout",
     "output_type": "stream",
     "text": [
      "....................................................................................................\n",
      "Initial\n",
      "[2.46, 27.41, 3090.0]\n",
      "[2.928399999999999, 19.401899999999994, 442700.0]\n",
      "Final\n",
      "[0.0, 44.0, 6200.0]\n",
      "[0.0, 0.0, 0.0]\n"
     ]
    },
    {
     "data": {
      "image/png": "[encoded data removed]",
      "text/plain": [
       "<matplotlib.figure.Figure at 0x10a53efd0>"
      ]
     },
     "metadata": {},
     "output_type": "display_data"
    },
    {
     "data": {
      "image/png": "[encoded data removed]",
      "text/plain": [
       "<matplotlib.figure.Figure at 0x10a8dfd10>"
      ]
     },
     "metadata": {},
     "output_type": "display_data"
    },
    {
     "data": {
      "image/png": "[encoded data removed]",
      "text/plain": [
       "<matplotlib.figure.Figure at 0x10d62db90>"
      ]
     },
     "metadata": {},
     "output_type": "display_data"
    }
   ],
   "source": [
    "initial, final = ga(gens=100)\n",
    "print(\"Initial\")\n",
    "avg_and_variance(initial)\n",
    "print(\"Final\")\n",
    "avg_and_variance(final)\n",
    "plot_pareto(initial, final)"
   ]
  },
  {
   "cell_type": "code",
   "execution_count": null,
   "metadata": {
    "collapsed": true
   },
   "outputs": [],
   "source": []
  },
  {
   "cell_type": "code",
   "execution_count": null,
   "metadata": {
    "collapsed": true
   },
   "outputs": [],
   "source": []
  },
  {
   "cell_type": "code",
   "execution_count": null,
   "metadata": {
    "collapsed": true
   },
   "outputs": [],
   "source": []
  },
  {
   "cell_type": "code",
   "execution_count": null,
   "metadata": {
    "collapsed": true
   },
   "outputs": [],
   "source": []
  },
  {
   "cell_type": "code",
   "execution_count": null,
   "metadata": {
    "collapsed": true
   },
   "outputs": [],
   "source": []
  },
  {
   "cell_type": "code",
   "execution_count": null,
   "metadata": {
    "collapsed": true
   },
   "outputs": [],
   "source": []
  }
 ],
 "metadata": {
  "anaconda-cloud": {},
  "celltoolbar": "Raw Cell Format",
  "kernelspec": {
   "display_name": "Python [default]",
   "language": "python",
   "name": "python2"
  },
  "language_info": {
   "codemirror_mode": {
    "name": "ipython",
    "version": 2
   },
   "file_extension": ".py",
   "mimetype": "text/x-python",
   "name": "python",
   "nbconvert_exporter": "python",
   "pygments_lexer": "ipython2",
   "version": "2.7.12"
  }
 },
 "nbformat": 4,
 "nbformat_minor": 1
}
